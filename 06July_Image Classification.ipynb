{
 "cells": [
  {
   "cell_type": "code",
   "execution_count": 12,
   "metadata": {},
   "outputs": [
    {
     "ename": "error",
     "evalue": "OpenCV(4.1.0) C:\\projects\\opencv-python\\opencv\\modules\\imgproc\\src\\color.cpp:182: error: (-215:Assertion failed) !_src.empty() in function 'cv::cvtColor'\n",
     "output_type": "error",
     "traceback": [
      "\u001b[1;31m---------------------------------------------------------------------------\u001b[0m",
      "\u001b[1;31merror\u001b[0m                                     Traceback (most recent call last)",
      "\u001b[1;32m<ipython-input-12-7ac0bc314c7d>\u001b[0m in \u001b[0;36m<module>\u001b[1;34m()\u001b[0m\n\u001b[0;32m     15\u001b[0m \u001b[1;33m\u001b[0m\u001b[0m\n\u001b[0;32m     16\u001b[0m \u001b[1;31m# Convert image into grayscale\u001b[0m\u001b[1;33m\u001b[0m\u001b[1;33m\u001b[0m\u001b[0m\n\u001b[1;32m---> 17\u001b[1;33m \u001b[0mgray\u001b[0m \u001b[1;33m=\u001b[0m \u001b[0mcv2\u001b[0m\u001b[1;33m.\u001b[0m\u001b[0mcvtColor\u001b[0m\u001b[1;33m(\u001b[0m\u001b[0mimage\u001b[0m\u001b[1;33m,\u001b[0m\u001b[0mcv2\u001b[0m\u001b[1;33m.\u001b[0m\u001b[0mCOLOR_BGR2GRAY\u001b[0m\u001b[1;33m)\u001b[0m   \u001b[1;31m# BGR --> Blue Green Red\u001b[0m\u001b[1;33m\u001b[0m\u001b[0m\n\u001b[0m\u001b[0;32m     18\u001b[0m \u001b[1;31m# BGR is a standard color format for picture taken by a camera\u001b[0m\u001b[1;33m\u001b[0m\u001b[1;33m\u001b[0m\u001b[0m\n\u001b[0;32m     19\u001b[0m \u001b[1;33m\u001b[0m\u001b[0m\n",
      "\u001b[1;31merror\u001b[0m: OpenCV(4.1.0) C:\\projects\\opencv-python\\opencv\\modules\\imgproc\\src\\color.cpp:182: error: (-215:Assertion failed) !_src.empty() in function 'cv::cvtColor'\n"
     ]
    }
   ],
   "source": [
    "# Object Detection on Still Image\n",
    "# Computer Vision Library  -->  cv2\n",
    "# Haar Cascade  --> trained datasets which can detect the Object which they have been trained for \n",
    "\n",
    "import cv2\n",
    "\n",
    "cascadeFile = 'D:\\Public\\Jyothsna\\Python\\Hackveda\\Image Recognition\\haarcascade_frontalface_default.xml'\n",
    "imagePath = 'D:\\Public\\Jyothsna\\Python\\Hackveda\\Image Recognition\\akshay.jpg'\n",
    "\n",
    "# Create the haar cascade\n",
    "faceCascade = cv2.CascadeClassifier(cascadeFile)\n",
    "\n",
    "# Read the image\n",
    "image = cv2.imread(imagePath)\n",
    "\n",
    "# Convert image into grayscale\n",
    "gray = cv2.cvtColor(image,cv2.COLOR_BGR2GRAY)   # BGR --> Blue Green Red\n",
    "# BGR is a standard color format for picture taken by a camera\n",
    "\n",
    "# Detect face in an image\n",
    "# detectMultiScale()  --> used to detect objects\n",
    "# firstArgument  --> grayScale Image\n",
    "# secondArgument --> scaleFactor 1.5\n",
    "# thirdArgument  --> minNeighbors  --> determines how may objects are detected near the current one\n",
    "# forthArgument  --> minsize  --> (30,30)\n",
    "\n",
    "faces = faceCascade.detectMultiScale(gray,scaleFactor=1.5,minNeighbors=3,minSize=(30,30))\n",
    "\n",
    "# Draw a Rectangle around face\n",
    "# x , y , w , h\n",
    "# cv2.rectangle(originalImage, startPoint , EndPoint , Thickness)\n",
    "\n",
    "for(x,y,w,h) in faces:\n",
    "    cv2.rectangle(image,(x,y),(x+w,y+h),(0,255,0),2)\n",
    "\n",
    "cv2.imshow('Faces Found',image)\n",
    "cv2.waitKey(0)"
   ]
  },
  {
   "cell_type": "code",
   "execution_count": 11,
   "metadata": {},
   "outputs": [],
   "source": [
    "# Real Time object Detection\n",
    "# Webcam\n",
    "# Detect our Face and Eye\n",
    "\n",
    "import cv2\n",
    "\n",
    "eyecascade = 'D:\\Public\\Jyothsna\\Python\\Hackveda\\Image Recognition\\haarcascade_eye.xml'\n",
    "facecascade = 'D:\\Public\\Jyothsna\\Python\\Hackveda\\Image Recognition\\haarcascade_frontalface_default.xml'\n",
    "\n",
    "eye_cascade = cv2.CascadeClassifier(eyecascade)\n",
    "face_cascade = cv2.CascadeClassifier(facecascade)\n",
    "\n",
    "# Create a video capture object\n",
    "video_capture = cv2.VideoCapture(0)  # 0 --> default Camera\n",
    "\n",
    "while True:\n",
    "    ret,img = video_capture.read() # it starts reading the feed from Camera\n",
    "    \n",
    "    gray = cv2.cvtColor(img,cv2.COLOR_BGR2GRAY)\n",
    "    \n",
    "    faces = face_cascade.detectMultiScale(gray,scaleFactor=1.1,minNeighbors=3,minSize=(30,30))\n",
    "    \n",
    "    for(x,y,w,h) in faces:\n",
    "        img_1 = cv2.rectangle(img,(x,y),(x+w,y+h),(0,255,0),2)\n",
    "        roi_gray = gray[y:y+h , x:x+w]\n",
    "        roi_color = img[y:y+h , x:x+w]\n",
    "        \n",
    "        eyes = eye_cascade.detectMultiScale(roi_gray)\n",
    "        for(ex,ey,ew,eh) in eyes:\n",
    "            cv2.rectangle(roi_color,(ex,ey),(ex+ew,ey+eh),(0,255,0),2)\n",
    "    cv2.imshow('MyFace',img)\n",
    "    \n",
    "    # Close the Frame\n",
    "    k = cv2.waitKey(5) & 0xFF  # ESC key\n",
    "    if k == 27:\n",
    "        break\n",
    "        \n",
    "# Close the Window\n",
    "video_capture.release()\n",
    "cv2.destroyAllWindows()"
   ]
  }
 ],
 "metadata": {
  "kernelspec": {
   "display_name": "Python 3",
   "language": "python",
   "name": "python3"
  },
  "language_info": {
   "codemirror_mode": {
    "name": "ipython",
    "version": 3
   },
   "file_extension": ".py",
   "mimetype": "text/x-python",
   "name": "python",
   "nbconvert_exporter": "python",
   "pygments_lexer": "ipython3",
   "version": "3.7.0"
  }
 },
 "nbformat": 4,
 "nbformat_minor": 2
}
