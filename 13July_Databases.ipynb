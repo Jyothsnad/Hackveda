{
 "cells": [
  {
   "cell_type": "code",
   "execution_count": 2,
   "metadata": {},
   "outputs": [],
   "source": [
    "# !pip install PyMySql"
   ]
  },
  {
   "cell_type": "code",
   "execution_count": 3,
   "metadata": {},
   "outputs": [],
   "source": [
    "import pymysql"
   ]
  },
  {
   "cell_type": "code",
   "execution_count": 7,
   "metadata": {},
   "outputs": [
    {
     "name": "stdout",
     "output_type": "stream",
     "text": [
      "Id =  1 Name =  Jyothsna Age =  20 Course =  BTech\n",
      "Id =  2 Name =  Harish Age =  18 Course =  MCA\n",
      "Id =  3 Name =  Tarun Age =  25 Course =  BTech\n",
      "Id =  4 Name =  Teja Age =  17 Course =  BTech\n",
      "Id =  5 Name =  Akshara Age =  19 Course =  MBA\n"
     ]
    }
   ],
   "source": [
    "# Create a connection String\n",
    "# connect(First --> Host, UserName, Password, DatabaseName)\n",
    "db = pymysql.connect('localhost','root','','python_db')\n",
    "\n",
    "# Create a Cursor object\n",
    "cursor = db.cursor()\n",
    "\n",
    "# Execute a query\n",
    "query = \"select * from students\";\n",
    "cursor.execute(query)\n",
    "\n",
    "# Fetch the records\n",
    "result = cursor.fetchall()\n",
    "#print(result)\n",
    "for data in result:\n",
    "    id = data[0]\n",
    "    name = data[1]\n",
    "    age = data[2]\n",
    "    course = data[3]  \n",
    "    print('Id = ',id, 'Name = ',name, 'Age = ',age, 'Course = ',course)\n",
    "    \n",
    "# Close the Connection\n",
    "db.close()"
   ]
  },
  {
   "cell_type": "code",
   "execution_count": null,
   "metadata": {},
   "outputs": [],
   "source": []
  }
 ],
 "metadata": {
  "kernelspec": {
   "display_name": "Python 3",
   "language": "python",
   "name": "python3"
  },
  "language_info": {
   "codemirror_mode": {
    "name": "ipython",
    "version": 3
   },
   "file_extension": ".py",
   "mimetype": "text/x-python",
   "name": "python",
   "nbconvert_exporter": "python",
   "pygments_lexer": "ipython3",
   "version": "3.7.0"
  }
 },
 "nbformat": 4,
 "nbformat_minor": 2
}
