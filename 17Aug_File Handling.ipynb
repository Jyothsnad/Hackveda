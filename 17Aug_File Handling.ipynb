{
 "cells": [
  {
   "cell_type": "code",
   "execution_count": 3,
   "metadata": {},
   "outputs": [],
   "source": [
    "# How to create a Text File\n",
    "\n",
    "def write_file():\n",
    "    f = open('D:\\Public\\Jyothsna\\Python\\Hackveda\\File Handling\\First.txt','w+')\n",
    "    # w+  --> perform write operation\n",
    "    # plus sign means it will create a file if file does not exist \n",
    "    \n",
    "    # Write some data into the File\n",
    "    for i in range(10):\n",
    "        f.write('This is line number %d\\n' % (i+1))\n",
    "    \n",
    "    f.close()   # close the file\n",
    "\n",
    "write_file()"
   ]
  },
  {
   "cell_type": "code",
   "execution_count": 5,
   "metadata": {},
   "outputs": [],
   "source": [
    "# How to Append Data into the File\n",
    "# a  --> append\n",
    "\n",
    "def append_file():\n",
    "    # Open a file\n",
    "    f = open('D:\\Public\\Jyothsna\\Python\\Hackveda\\File Handling\\First.txt','a+')\n",
    "    # write some lines into the file\n",
    "    for i in range(2):\n",
    "        f.write('Appended line %d\\n' % (i+1))\n",
    "    \n",
    "    # Close the file\n",
    "    f.close()\n",
    "\n",
    "append_file()"
   ]
  },
  {
   "cell_type": "code",
   "execution_count": 6,
   "metadata": {},
   "outputs": [
    {
     "name": "stdout",
     "output_type": "stream",
     "text": [
      "This is line number 1\n",
      "This is line number 2\n",
      "This is line number 3\n",
      "This is line number 4\n",
      "This is line number 5\n",
      "This is line number 6\n",
      "This is line number 7\n",
      "This is line number 8\n",
      "This is line number 9\n",
      "This is line number 10\n",
      "Appended line 1\n",
      "Appended line 2\n",
      "\n"
     ]
    }
   ],
   "source": [
    "# How to Read a File\n",
    "\n",
    "def read_file():\n",
    "    # open the file\n",
    "    f = open('D:\\Public\\Jyothsna\\Python\\Hackveda\\File Handling\\First.txt','r')\n",
    "    if f.mode == 'r':\n",
    "        # use the read() function to read the content\n",
    "        # f.read(4)  --> read the first 4 data\n",
    "        # f.read()   --> read the data till the end of your file\n",
    "        content = f.read()\n",
    "        print(content)\n",
    "    # close the file\n",
    "    f.close()\n",
    "\n",
    "read_file()"
   ]
  },
  {
   "cell_type": "code",
   "execution_count": 7,
   "metadata": {},
   "outputs": [],
   "source": [
    "# with statement\n",
    "\n",
    "with open('D:\\Public\\Jyothsna\\Python\\Hackveda\\File Handling\\Second.txt','w') as file:\n",
    "    file.write('File Created using With Statement')"
   ]
  },
  {
   "cell_type": "code",
   "execution_count": 8,
   "metadata": {},
   "outputs": [],
   "source": [
    "# Python Program to Copy the content of File into Another File\n",
    "\n",
    "with open('D:\\Public\\Jyothsna\\Python\\Hackveda\\File Handling\\First.txt') as f:\n",
    "    with open('D:\\Public\\Jyothsna\\Python\\Hackveda\\File Handling\\Third.txt','w') as f1:\n",
    "        for line in f:\n",
    "            f1.write(line)        "
   ]
  },
  {
   "cell_type": "code",
   "execution_count": 9,
   "metadata": {},
   "outputs": [],
   "source": [
    "# Delete a file\n",
    "\n",
    "import os\n",
    "\n",
    "if os.path.exists('D:\\Public\\Jyothsna\\Python\\Hackveda\\File Handling\\Second.txt'):\n",
    "    os.remove('D:\\Public\\Jyothsna\\Python\\Hackveda\\File Handling\\Second.txt')\n",
    "else:\n",
    "    print('The file does not exist')"
   ]
  },
  {
   "cell_type": "code",
   "execution_count": null,
   "metadata": {},
   "outputs": [],
   "source": [
    "# os.rmdir()\n",
    "# shell utilities\n",
    "# import shutil\n",
    "# shutil.rmtree()\n",
    "\n",
    "# pathlib\n",
    "# pathlib.path.unlink()\n",
    "\n",
    "# os.unlink('file path')\n",
    "# if os.path.isFile(myFile)\n",
    "#     os.remove(myFile) "
   ]
  },
  {
   "cell_type": "code",
   "execution_count": 10,
   "metadata": {},
   "outputs": [
    {
     "name": "stdout",
     "output_type": "stream",
     "text": [
      "The fileptr is at byte :  0\n",
      "After Reading , The fileptr is at byte :  265\n"
     ]
    }
   ],
   "source": [
    "# File Pointer Positions\n",
    "# Python provides tell() method \n",
    "# which is used to print the byte number at which the file pointer exists\n",
    "\n",
    "fileptr = open('D:\\Public\\Jyothsna\\Python\\Hackveda\\File Handling\\First.txt','r')\n",
    "\n",
    "# initially the file pointer is at 0\n",
    "print('The fileptr is at byte : ',fileptr.tell())\n",
    "\n",
    "# read the content of file\n",
    "content = fileptr.read()\n",
    "\n",
    "# after the read operation\n",
    "print('After Reading , The fileptr is at byte : ',fileptr.tell())"
   ]
  },
  {
   "cell_type": "code",
   "execution_count": 11,
   "metadata": {},
   "outputs": [
    {
     "name": "stdout",
     "output_type": "stream",
     "text": [
      "The fileptr is at byte :  0\n",
      "After seek() , The fileptr is at byte :  10\n"
     ]
    }
   ],
   "source": [
    "# seek()  --> used to modify the file pointer position\n",
    "\n",
    "fileptr = open('D:\\Public\\Jyothsna\\Python\\Hackveda\\File Handling\\First.txt','r')\n",
    "\n",
    "# initially the file pointer is at 0\n",
    "print('The fileptr is at byte : ',fileptr.tell())\n",
    "\n",
    "# change the file pointer position to 10\n",
    "fileptr.seek(10)   # 10 --> offset (refers to the position of file)\n",
    "\n",
    "print('After seek() , The fileptr is at byte : ',fileptr.tell())"
   ]
  }
 ],
 "metadata": {
  "kernelspec": {
   "display_name": "Python 3",
   "language": "python",
   "name": "python3"
  },
  "language_info": {
   "codemirror_mode": {
    "name": "ipython",
    "version": 3
   },
   "file_extension": ".py",
   "mimetype": "text/x-python",
   "name": "python",
   "nbconvert_exporter": "python",
   "pygments_lexer": "ipython3",
   "version": "3.7.0"
  }
 },
 "nbformat": 4,
 "nbformat_minor": 2
}
