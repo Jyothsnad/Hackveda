{
 "cells": [
  {
   "cell_type": "code",
   "execution_count": 4,
   "metadata": {},
   "outputs": [
    {
     "data": {
      "text/plain": [
       "array([[ 1,  1,  1],\n",
       "       [ 4,  2,  1],\n",
       "       [ 9,  3,  1],\n",
       "       [16,  4,  1],\n",
       "       [25,  5,  1]])"
      ]
     },
     "execution_count": 4,
     "metadata": {},
     "output_type": "execute_result"
    }
   ],
   "source": [
    "# Vandermode Matrix\n",
    "\n",
    "import numpy as np\n",
    "x = np.array([1,2,3,4,5])  # 1D array\n",
    "N = 3   # degree\n",
    "np.vander(x,N)\n",
    "\n",
    "'''\n",
    "First Column : x^(N-1)\n",
    "\n",
    "Second Column : x^(N-2)\n",
    "\n",
    "Third Column : x^(N-3)\n",
    "'''\n",
    "\n",
    "# y = mx + c"
   ]
  },
  {
   "cell_type": "code",
   "execution_count": 6,
   "metadata": {},
   "outputs": [
    {
     "data": {
      "text/html": [
       "<div>\n",
       "<style scoped>\n",
       "    .dataframe tbody tr th:only-of-type {\n",
       "        vertical-align: middle;\n",
       "    }\n",
       "\n",
       "    .dataframe tbody tr th {\n",
       "        vertical-align: top;\n",
       "    }\n",
       "\n",
       "    .dataframe thead th {\n",
       "        text-align: right;\n",
       "    }\n",
       "</style>\n",
       "<table border=\"1\" class=\"dataframe\">\n",
       "  <thead>\n",
       "    <tr style=\"text-align: right;\">\n",
       "      <th></th>\n",
       "      <th>Hours_Studied</th>\n",
       "      <th>Test_Grade</th>\n",
       "      <th>Status</th>\n",
       "      <th>Result</th>\n",
       "    </tr>\n",
       "  </thead>\n",
       "  <tbody>\n",
       "    <tr>\n",
       "      <th>0</th>\n",
       "      <td>2</td>\n",
       "      <td>57</td>\n",
       "      <td>fail</td>\n",
       "      <td>D</td>\n",
       "    </tr>\n",
       "    <tr>\n",
       "      <th>1</th>\n",
       "      <td>3</td>\n",
       "      <td>66</td>\n",
       "      <td>fail</td>\n",
       "      <td>D</td>\n",
       "    </tr>\n",
       "    <tr>\n",
       "      <th>2</th>\n",
       "      <td>4</td>\n",
       "      <td>73</td>\n",
       "      <td>pass</td>\n",
       "      <td>C</td>\n",
       "    </tr>\n",
       "    <tr>\n",
       "      <th>3</th>\n",
       "      <td>5</td>\n",
       "      <td>76</td>\n",
       "      <td>pass</td>\n",
       "      <td>C</td>\n",
       "    </tr>\n",
       "    <tr>\n",
       "      <th>4</th>\n",
       "      <td>6</td>\n",
       "      <td>79</td>\n",
       "      <td>pass</td>\n",
       "      <td>C</td>\n",
       "    </tr>\n",
       "    <tr>\n",
       "      <th>5</th>\n",
       "      <td>7</td>\n",
       "      <td>81</td>\n",
       "      <td>pass</td>\n",
       "      <td>B</td>\n",
       "    </tr>\n",
       "    <tr>\n",
       "      <th>6</th>\n",
       "      <td>8</td>\n",
       "      <td>90</td>\n",
       "      <td>pass</td>\n",
       "      <td>B</td>\n",
       "    </tr>\n",
       "    <tr>\n",
       "      <th>7</th>\n",
       "      <td>9</td>\n",
       "      <td>96</td>\n",
       "      <td>pass</td>\n",
       "      <td>A</td>\n",
       "    </tr>\n",
       "    <tr>\n",
       "      <th>8</th>\n",
       "      <td>10</td>\n",
       "      <td>100</td>\n",
       "      <td>pass</td>\n",
       "      <td>A</td>\n",
       "    </tr>\n",
       "  </tbody>\n",
       "</table>\n",
       "</div>"
      ],
      "text/plain": [
       "   Hours_Studied  Test_Grade Status Result\n",
       "0              2          57   fail      D\n",
       "1              3          66   fail      D\n",
       "2              4          73   pass      C\n",
       "3              5          76   pass      C\n",
       "4              6          79   pass      C\n",
       "5              7          81   pass      B\n",
       "6              8          90   pass      B\n",
       "7              9          96   pass      A\n",
       "8             10         100   pass      A"
      ]
     },
     "execution_count": 6,
     "metadata": {},
     "output_type": "execute_result"
    }
   ],
   "source": [
    "# Load the Dataset\n",
    "\n",
    "import pandas as pd\n",
    "\n",
    "df = pd.read_csv('D:\\Public\\Jyothsna\\Python\\Hackveda\\Grade_Set_1.csv')\n",
    "df"
   ]
  },
  {
   "cell_type": "code",
   "execution_count": 13,
   "metadata": {},
   "outputs": [],
   "source": [
    "import sklearn.linear_model as lm\n",
    "lr = lm.LinearRegression()\n",
    "\n",
    "import matplotlib.pyplot as plt\n",
    "%matplotlib inline\n",
    "\n",
    "from sklearn.metrics import r2_score\n",
    "\n",
    "X = df.Hours_Studied.values   # Independent Variable\n",
    "Y = df.Test_Grade.values      # Dependent Variable"
   ]
  },
  {
   "cell_type": "code",
   "execution_count": 14,
   "metadata": {},
   "outputs": [
    {
     "data": {
      "text/plain": [
       "array([[ 2,  1],\n",
       "       [ 3,  1],\n",
       "       [ 4,  1],\n",
       "       [ 5,  1],\n",
       "       [ 6,  1],\n",
       "       [ 7,  1],\n",
       "       [ 8,  1],\n",
       "       [ 9,  1],\n",
       "       [10,  1]], dtype=int64)"
      ]
     },
     "execution_count": 14,
     "metadata": {},
     "output_type": "execute_result"
    }
   ],
   "source": [
    "np.vander(X,2)"
   ]
  },
  {
   "cell_type": "code",
   "execution_count": 15,
   "metadata": {},
   "outputs": [
    {
     "data": {
      "text/plain": [
       "array([[  4,   2,   1],\n",
       "       [  9,   3,   1],\n",
       "       [ 16,   4,   1],\n",
       "       [ 25,   5,   1],\n",
       "       [ 36,   6,   1],\n",
       "       [ 49,   7,   1],\n",
       "       [ 64,   8,   1],\n",
       "       [ 81,   9,   1],\n",
       "       [100,  10,   1]], dtype=int64)"
      ]
     },
     "execution_count": 15,
     "metadata": {},
     "output_type": "execute_result"
    }
   ],
   "source": [
    "np.vander(X,3)"
   ]
  },
  {
   "cell_type": "code",
   "execution_count": 22,
   "metadata": {},
   "outputs": [
    {
     "name": "stdout",
     "output_type": "stream",
     "text": [
      "R Squared :  0.9757431074095347\n",
      "R Squared :  0.975866422491925\n",
      "R Squared :  0.9862288056572952\n",
      "R Squared :  0.9946995135823395\n"
     ]
    },
    {
     "data": {
      "image/png": "[encoded data removed]",
      "text/plain": [
       "<Figure size 432x288 with 1 Axes>"
      ]
     },
     "metadata": {
      "needs_background": "light"
     },
     "output_type": "display_data"
    }
   ],
   "source": [
    "# https://scikit-learn.org/stable/modules/generated/sklearn.linear_model.LinearRegression.html\n",
    "\n",
    "for deg in [2,3,4,5]:\n",
    "    lr.fit(np.vander(X,deg),Y)\n",
    "    Ypred = lr.predict(np.vander(X,deg))\n",
    "    df['Degree '+str(deg)] = Ypred\n",
    "    plt.plot(X,Ypred)\n",
    "    print('R Squared : ',r2_score(Y,Ypred))\n",
    "plt.scatter(X,Y)\n",
    "plt.title('Actual Vs Predicted')\n",
    "plt.xlabel('Hours_Studied')\n",
    "plt.ylabel('Test_Grade')\n",
    "plt.show()"
   ]
  },
  {
   "cell_type": "code",
   "execution_count": 23,
   "metadata": {},
   "outputs": [
    {
     "data": {
      "text/html": [
       "<div>\n",
       "<style scoped>\n",
       "    .dataframe tbody tr th:only-of-type {\n",
       "        vertical-align: middle;\n",
       "    }\n",
       "\n",
       "    .dataframe tbody tr th {\n",
       "        vertical-align: top;\n",
       "    }\n",
       "\n",
       "    .dataframe thead th {\n",
       "        text-align: right;\n",
       "    }\n",
       "</style>\n",
       "<table border=\"1\" class=\"dataframe\">\n",
       "  <thead>\n",
       "    <tr style=\"text-align: right;\">\n",
       "      <th></th>\n",
       "      <th>Hours_Studied</th>\n",
       "      <th>Test_Grade</th>\n",
       "      <th>Status</th>\n",
       "      <th>Result</th>\n",
       "      <th>Degree 2</th>\n",
       "      <th>Degree 3</th>\n",
       "      <th>Degree 4</th>\n",
       "      <th>Degree 5</th>\n",
       "    </tr>\n",
       "  </thead>\n",
       "  <tbody>\n",
       "    <tr>\n",
       "      <th>0</th>\n",
       "      <td>2</td>\n",
       "      <td>57</td>\n",
       "      <td>fail</td>\n",
       "      <td>D</td>\n",
       "      <td>59.711111</td>\n",
       "      <td>59.478788</td>\n",
       "      <td>57.696970</td>\n",
       "      <td>56.564103</td>\n",
       "    </tr>\n",
       "    <tr>\n",
       "      <th>1</th>\n",
       "      <td>3</td>\n",
       "      <td>66</td>\n",
       "      <td>fail</td>\n",
       "      <td>D</td>\n",
       "      <td>64.727778</td>\n",
       "      <td>64.669697</td>\n",
       "      <td>65.560606</td>\n",
       "      <td>67.259907</td>\n",
       "    </tr>\n",
       "    <tr>\n",
       "      <th>2</th>\n",
       "      <td>4</td>\n",
       "      <td>73</td>\n",
       "      <td>pass</td>\n",
       "      <td>C</td>\n",
       "      <td>69.744444</td>\n",
       "      <td>69.810823</td>\n",
       "      <td>71.465368</td>\n",
       "      <td>72.355478</td>\n",
       "    </tr>\n",
       "    <tr>\n",
       "      <th>3</th>\n",
       "      <td>5</td>\n",
       "      <td>76</td>\n",
       "      <td>pass</td>\n",
       "      <td>C</td>\n",
       "      <td>74.761111</td>\n",
       "      <td>74.902165</td>\n",
       "      <td>76.047619</td>\n",
       "      <td>75.319347</td>\n",
       "    </tr>\n",
       "    <tr>\n",
       "      <th>4</th>\n",
       "      <td>6</td>\n",
       "      <td>79</td>\n",
       "      <td>pass</td>\n",
       "      <td>C</td>\n",
       "      <td>79.777778</td>\n",
       "      <td>79.943723</td>\n",
       "      <td>79.943723</td>\n",
       "      <td>78.487179</td>\n",
       "    </tr>\n",
       "    <tr>\n",
       "      <th>5</th>\n",
       "      <td>7</td>\n",
       "      <td>81</td>\n",
       "      <td>pass</td>\n",
       "      <td>B</td>\n",
       "      <td>84.794444</td>\n",
       "      <td>84.935498</td>\n",
       "      <td>83.790043</td>\n",
       "      <td>83.061772</td>\n",
       "    </tr>\n",
       "    <tr>\n",
       "      <th>6</th>\n",
       "      <td>8</td>\n",
       "      <td>90</td>\n",
       "      <td>pass</td>\n",
       "      <td>B</td>\n",
       "      <td>89.811111</td>\n",
       "      <td>89.877489</td>\n",
       "      <td>88.222944</td>\n",
       "      <td>89.113054</td>\n",
       "    </tr>\n",
       "    <tr>\n",
       "      <th>7</th>\n",
       "      <td>9</td>\n",
       "      <td>96</td>\n",
       "      <td>pass</td>\n",
       "      <td>A</td>\n",
       "      <td>94.827778</td>\n",
       "      <td>94.769697</td>\n",
       "      <td>93.878788</td>\n",
       "      <td>95.578089</td>\n",
       "    </tr>\n",
       "    <tr>\n",
       "      <th>8</th>\n",
       "      <td>10</td>\n",
       "      <td>100</td>\n",
       "      <td>pass</td>\n",
       "      <td>A</td>\n",
       "      <td>99.844444</td>\n",
       "      <td>99.612121</td>\n",
       "      <td>101.393939</td>\n",
       "      <td>100.261072</td>\n",
       "    </tr>\n",
       "  </tbody>\n",
       "</table>\n",
       "</div>"
      ],
      "text/plain": [
       "   Hours_Studied  Test_Grade Status Result   Degree 2   Degree 3    Degree 4  \\\n",
       "0              2          57   fail      D  59.711111  59.478788   57.696970   \n",
       "1              3          66   fail      D  64.727778  64.669697   65.560606   \n",
       "2              4          73   pass      C  69.744444  69.810823   71.465368   \n",
       "3              5          76   pass      C  74.761111  74.902165   76.047619   \n",
       "4              6          79   pass      C  79.777778  79.943723   79.943723   \n",
       "5              7          81   pass      B  84.794444  84.935498   83.790043   \n",
       "6              8          90   pass      B  89.811111  89.877489   88.222944   \n",
       "7              9          96   pass      A  94.827778  94.769697   93.878788   \n",
       "8             10         100   pass      A  99.844444  99.612121  101.393939   \n",
       "\n",
       "     Degree 5  \n",
       "0   56.564103  \n",
       "1   67.259907  \n",
       "2   72.355478  \n",
       "3   75.319347  \n",
       "4   78.487179  \n",
       "5   83.061772  \n",
       "6   89.113054  \n",
       "7   95.578089  \n",
       "8  100.261072  "
      ]
     },
     "execution_count": 23,
     "metadata": {},
     "output_type": "execute_result"
    }
   ],
   "source": [
    "# print dataframe with Degrees\n",
    "\n",
    "df"
   ]
  },
  {
   "cell_type": "code",
   "execution_count": null,
   "metadata": {},
   "outputs": [],
   "source": [
    "# https://scikit-learn.org/stable/modules/generated/sklearn.preprocessing.PolynomialFeatures.html\n",
    "\n",
    "# https://towardsdatascience.com/polynomial-regression-bbe8b9d97491\n"
   ]
  }
 ],
 "metadata": {
  "kernelspec": {
   "display_name": "Python 3",
   "language": "python",
   "name": "python3"
  },
  "language_info": {
   "codemirror_mode": {
    "name": "ipython",
    "version": 3
   },
   "file_extension": ".py",
   "mimetype": "text/x-python",
   "name": "python",
   "nbconvert_exporter": "python",
   "pygments_lexer": "ipython3",
   "version": "3.7.0"
  }
 },
 "nbformat": 4,
 "nbformat_minor": 2
}
