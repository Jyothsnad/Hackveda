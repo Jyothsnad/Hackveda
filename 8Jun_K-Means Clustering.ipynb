{
 "cells": [
  {
   "cell_type": "code",
   "execution_count": 39,
   "metadata": {},
   "outputs": [],
   "source": [
    "# Apriori Algorithm (Market-Basket Analysis) - Association\n",
    "# Objective: Identify association among products, entities\n",
    "\n",
    "\n",
    "# KMeans Algorthim\n",
    "# k: Number of clusters"
   ]
  },
  {
   "cell_type": "code",
   "execution_count": 40,
   "metadata": {},
   "outputs": [],
   "source": [
    "import pandas as pd\n",
    "import numpy as np\n",
    "import matplotlib.pyplot as plt\n",
    "%matplotlib inline"
   ]
  },
  {
   "cell_type": "code",
   "execution_count": 41,
   "metadata": {},
   "outputs": [],
   "source": [
    "df = pd.DataFrame({\n",
    "    'x': [12,20,28,18,29,33,24,45,45,52,51,52,55,53,55,61,64,69,72],\n",
    "    'y': [39,36,30,52,54,46,55,59,63,70,66,63,58,23,14,8,19,7,34]\n",
    "})\n",
    "\n",
    "#df"
   ]
  },
  {
   "cell_type": "code",
   "execution_count": 42,
   "metadata": {},
   "outputs": [
    {
     "name": "stdout",
     "output_type": "stream",
     "text": [
      "{1: [26, 16], 2: [68, 42], 3: [55, 76]}\n"
     ]
    }
   ],
   "source": [
    "np.random.seed(200)\n",
    "\n",
    "# clusters = 3\n",
    "\n",
    "K = 3\n",
    "\n",
    "centroids = {\n",
    "    i+1: [np.random.randint(0,80),np.random.randint(0,80)]\n",
    "    for i in range(K)  # i = 0 1 2 (K=3)\n",
    "}\n",
    "\n",
    "print(centroids)"
   ]
  },
  {
   "cell_type": "code",
   "execution_count": 43,
   "metadata": {},
   "outputs": [
    {
     "data": {
      "image/png": "[encoded data removed]",
      "text/plain": [
       "<Figure size 360x360 with 1 Axes>"
      ]
     },
     "metadata": {
      "needs_background": "light"
     },
     "output_type": "display_data"
    }
   ],
   "source": [
    "fig = plt.figure(figsize=(5,5))\n",
    "plt.scatter(df['x'],df['y'],color='k')\n",
    "\n",
    "colmap = {1:'r', 2:'g', 3:'b'}\n",
    "for i in centroids.keys():\n",
    "    plt.scatter(*centroids[i],color=colmap[i])  # * used for iterating the centroid values (1:[26,16])\n",
    "\n",
    "plt.show()"
   ]
  },
  {
   "cell_type": "code",
   "execution_count": 44,
   "metadata": {},
   "outputs": [
    {
     "data": {
      "text/plain": [
       "KMeans(algorithm='auto', copy_x=True, init='k-means++', max_iter=300,\n",
       "    n_clusters=3, n_init=10, n_jobs=1, precompute_distances='auto',\n",
       "    random_state=None, tol=0.0001, verbose=0)"
      ]
     },
     "execution_count": 44,
     "metadata": {},
     "output_type": "execute_result"
    }
   ],
   "source": [
    "from sklearn.cluster import KMeans\n",
    "kmean = KMeans(n_clusters=3)         # default value of n_clusters = 8\n",
    "\n",
    "kmean.fit(df)"
   ]
  },
  {
   "cell_type": "code",
   "execution_count": 45,
   "metadata": {},
   "outputs": [
    {
     "name": "stdout",
     "output_type": "stream",
     "text": [
      "[1 1 1 1 1 1 1 2 2 2 2 2 2 0 0 0 0 0 0]\n",
      "[[62.33333333 17.5       ]\n",
      " [23.42857143 44.57142857]\n",
      " [50.         63.16666667]]\n"
     ]
    }
   ],
   "source": [
    "labels = kmean.predict(df)\n",
    "centroids = kmean.cluster_centers_\n",
    "print(labels)\n",
    "print(centroids)"
   ]
  },
  {
   "cell_type": "code",
   "execution_count": 46,
   "metadata": {},
   "outputs": [
    {
     "data": {
      "image/png": "[encoded data removed]",
      "text/plain": [
       "<Figure size 360x360 with 1 Axes>"
      ]
     },
     "metadata": {
      "needs_background": "light"
     },
     "output_type": "display_data"
    }
   ],
   "source": [
    "fig = plt.figure(figsize=(5,5))\n",
    "colors = map(lambda x: colmap[x+1], labels)\n",
    "colors1 = list(colors)\n",
    "\n",
    "plt.scatter(df['x'],df['y'], color=colors1, alpha=0.5)\n",
    "\n",
    "for idx, centroids in enumerate(centroids):\n",
    "    plt.scatter(*centroids, color=colmap[idx+1])\n",
    "\n",
    "plt.show()"
   ]
  },
  {
   "cell_type": "code",
   "execution_count": 47,
   "metadata": {},
   "outputs": [
    {
     "data": {
      "text/plain": [
       "[(0, 11), (1, 12), (2, 13), (3, 14), (4, 15), (5, 16), (6, 17)]"
      ]
     },
     "execution_count": 47,
     "metadata": {},
     "output_type": "execute_result"
    }
   ],
   "source": [
    "mylist = [11,12,13,14,15,16,17]\n",
    "list(enumerate(mylist))"
   ]
  }
 ],
 "metadata": {
  "kernelspec": {
   "display_name": "Python 3",
   "language": "python",
   "name": "python3"
  },
  "language_info": {
   "codemirror_mode": {
    "name": "ipython",
    "version": 3
   },
   "file_extension": ".py",
   "mimetype": "text/x-python",
   "name": "python",
   "nbconvert_exporter": "python",
   "pygments_lexer": "ipython3",
   "version": "3.7.0"
  }
 },
 "nbformat": 4,
 "nbformat_minor": 2
}
